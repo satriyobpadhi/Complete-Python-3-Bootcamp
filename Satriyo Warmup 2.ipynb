{
 "cells": [
  {
   "cell_type": "code",
   "execution_count": 1,
   "id": "5df91f56",
   "metadata": {},
   "outputs": [],
   "source": [
    "import random\n",
    "jenis = ('hati', 'wajik', 'keriting', 'daun')\n",
    "rangking = ('dua','tiga','empat','lima','enam','tujuh','delapan','sembilan','sepuluh','jack','queen','king','as')\n",
    "nilai = {'dua':2, 'tiga':3, 'empat':4, 'lima':5, 'enam':6, 'tujuh':7, 'delapan':8, 'sembilan':9, \n",
    "         'sepuluh':10, 'jack':11, 'queen':12, 'king':13, 'as':14 }"
   ]
  },
  {
   "cell_type": "code",
   "execution_count": 2,
   "id": "557a2939",
   "metadata": {},
   "outputs": [],
   "source": [
    "class Kartu:\n",
    "    def __init__(self, tipe, nomor):\n",
    "        self.tipe = tipe\n",
    "        self.nomor = nomoraf\n",
    "        self.value = nilai[nomor]\n",
    "    \n",
    "    def __str__(self):\n",
    "        return self.nomor + ' ' + self.tipe"
   ]
  },
  {
   "cell_type": "code",
   "execution_count": 3,
   "id": "e9dc052f",
   "metadata": {},
   "outputs": [],
   "source": [
    "class Deck:\n",
    "    \n",
    "    def __init__(self):\n",
    "        self.semua_kartu = []\n",
    "        for tipe in jenis:\n",
    "            for nomor in rangking:\n",
    "                self.semua_kartu.append(Kartu(tipe,nomor))\n",
    "    \n",
    "    def shuffle(self):\n",
    "        random.shuffle(self.semua_kartu)\n",
    "        \n",
    "    def deal_pertama(self):\n",
    "        return self.semua_kartu.pop()\n",
    "    \n",
    "    def __str__(self):\n",
    "        return self.semua_kartu"
   ]
  },
  {
   "cell_type": "code",
   "execution_count": 4,
   "id": "ef0834db",
   "metadata": {},
   "outputs": [],
   "source": [
    "class Player:\n",
    "    def __init__(self, nama):\n",
    "        self.nama = nama\n",
    "        self.semua_kartu2 = []\n",
    "    \n",
    "    def remove_card(self):\n",
    "        return self.semua_kartu2.pop(0)\n",
    "    \n",
    "    def add_cards(self, kartu_baru):\n",
    "        if type(kartu_baru) == type([]):\n",
    "            return self.semua_kartu2.extend(kartu_baru)\n",
    "        else:\n",
    "            return self.semua_kartu2.append(kartu_baru)\n",
    "    \n",
    "    def __str__(self):\n",
    "        return ('Player bernama {} memiliki {} buah kartu'.format(self.nama, len(self.semua_kartu2)))"
   ]
  },
  {
   "cell_type": "code",
   "execution_count": 5,
   "id": "78647295",
   "metadata": {},
   "outputs": [],
   "source": [
    "#Player Name\n",
    "player1 = Player(\"Player A\")\n",
    "player2 = Player(\"Player B\")\n",
    "\n",
    "#create deck & shuffle\n",
    "new_deck = Deck()\n",
    "new_deck.shuffle()\n",
    "\n",
    "#assign 26 cards to each player\n",
    "for x in range(26):\n",
    "    player1.add_cards(new_deck.deal_pertama())\n",
    "    player2.add_cards(new_deck.deal_pertama())\n",
    "\n",
    "game_on = True"
   ]
  },
  {
   "cell_type": "code",
   "execution_count": 6,
   "id": "92c36bb8",
   "metadata": {},
   "outputs": [
    {
     "name": "stdout",
     "output_type": "stream",
     "text": [
      "Round Number: 1\n",
      "WAR!\n"
     ]
    },
    {
     "ename": "KeyboardInterrupt",
     "evalue": "",
     "output_type": "error",
     "traceback": [
      "\u001b[0;31m---------------------------------------------------------------------------\u001b[0m",
      "\u001b[0;31mKeyboardInterrupt\u001b[0m                         Traceback (most recent call last)",
      "\u001b[0;32m<ipython-input-6-d98fba7c24f2>\u001b[0m in \u001b[0;36m<module>\u001b[0;34m\u001b[0m\n\u001b[1;32m     28\u001b[0m         \u001b[0;32mif\u001b[0m \u001b[0mplayer1_holding\u001b[0m\u001b[0;34m[\u001b[0m\u001b[0;34m-\u001b[0m\u001b[0;36m1\u001b[0m\u001b[0;34m]\u001b[0m\u001b[0;34m.\u001b[0m\u001b[0mvalue\u001b[0m \u001b[0;34m>\u001b[0m \u001b[0mplayer2_holding\u001b[0m\u001b[0;34m[\u001b[0m\u001b[0;34m-\u001b[0m\u001b[0;36m1\u001b[0m\u001b[0;34m]\u001b[0m\u001b[0;34m.\u001b[0m\u001b[0mvalue\u001b[0m\u001b[0;34m:\u001b[0m\u001b[0;34m\u001b[0m\u001b[0;34m\u001b[0m\u001b[0m\n\u001b[1;32m     29\u001b[0m             \u001b[0;31m#player 1 add cards that being held + add card that being held by player 2\u001b[0m\u001b[0;34m\u001b[0m\u001b[0;34m\u001b[0m\u001b[0;34m\u001b[0m\u001b[0m\n\u001b[0;32m---> 30\u001b[0;31m             \u001b[0mplayer1\u001b[0m\u001b[0;34m.\u001b[0m\u001b[0madd_cards\u001b[0m\u001b[0;34m(\u001b[0m\u001b[0mplayer1_holding\u001b[0m\u001b[0;34m)\u001b[0m\u001b[0;34m\u001b[0m\u001b[0;34m\u001b[0m\u001b[0m\n\u001b[0m\u001b[1;32m     31\u001b[0m             \u001b[0mplayer1\u001b[0m\u001b[0;34m.\u001b[0m\u001b[0madd_cards\u001b[0m\u001b[0;34m(\u001b[0m\u001b[0mplayer2_holding\u001b[0m\u001b[0;34m)\u001b[0m\u001b[0;34m\u001b[0m\u001b[0;34m\u001b[0m\u001b[0m\n\u001b[1;32m     32\u001b[0m \u001b[0;34m\u001b[0m\u001b[0m\n",
      "\u001b[0;32m<ipython-input-4-aa2f66ccf4f9>\u001b[0m in \u001b[0;36madd_cards\u001b[0;34m(self, kartu_baru)\u001b[0m\n\u001b[1;32m      9\u001b[0m     \u001b[0;32mdef\u001b[0m \u001b[0madd_cards\u001b[0m\u001b[0;34m(\u001b[0m\u001b[0mself\u001b[0m\u001b[0;34m,\u001b[0m \u001b[0mkartu_baru\u001b[0m\u001b[0;34m)\u001b[0m\u001b[0;34m:\u001b[0m\u001b[0;34m\u001b[0m\u001b[0;34m\u001b[0m\u001b[0m\n\u001b[1;32m     10\u001b[0m         \u001b[0;32mif\u001b[0m \u001b[0mtype\u001b[0m\u001b[0;34m(\u001b[0m\u001b[0mkartu_baru\u001b[0m\u001b[0;34m)\u001b[0m \u001b[0;34m==\u001b[0m \u001b[0mtype\u001b[0m\u001b[0;34m(\u001b[0m\u001b[0;34m[\u001b[0m\u001b[0;34m]\u001b[0m\u001b[0;34m)\u001b[0m\u001b[0;34m:\u001b[0m\u001b[0;34m\u001b[0m\u001b[0;34m\u001b[0m\u001b[0m\n\u001b[0;32m---> 11\u001b[0;31m             \u001b[0;32mreturn\u001b[0m \u001b[0mself\u001b[0m\u001b[0;34m.\u001b[0m\u001b[0msemua_kartu2\u001b[0m\u001b[0;34m.\u001b[0m\u001b[0mextend\u001b[0m\u001b[0;34m(\u001b[0m\u001b[0mkartu_baru\u001b[0m\u001b[0;34m)\u001b[0m\u001b[0;34m\u001b[0m\u001b[0;34m\u001b[0m\u001b[0m\n\u001b[0m\u001b[1;32m     12\u001b[0m         \u001b[0;32melse\u001b[0m\u001b[0;34m:\u001b[0m\u001b[0;34m\u001b[0m\u001b[0;34m\u001b[0m\u001b[0m\n\u001b[1;32m     13\u001b[0m             \u001b[0;32mreturn\u001b[0m \u001b[0mself\u001b[0m\u001b[0;34m.\u001b[0m\u001b[0msemua_kartu2\u001b[0m\u001b[0;34m.\u001b[0m\u001b[0mappend\u001b[0m\u001b[0;34m(\u001b[0m\u001b[0mkartu_baru\u001b[0m\u001b[0;34m)\u001b[0m\u001b[0;34m\u001b[0m\u001b[0;34m\u001b[0m\u001b[0m\n",
      "\u001b[0;31mKeyboardInterrupt\u001b[0m: "
     ]
    }
   ],
   "source": [
    "round_num = 0\n",
    "\n",
    "#check if each player has 0 card\n",
    "while game_on:\n",
    "    round_num += 1\n",
    "    print('Round Number: {}'.format(round_num))\n",
    "    \n",
    "    if len(player1.semua_kartu2) == 0:\n",
    "        print ('Player A kalah. Player B MENANG!')\n",
    "        game_on = False\n",
    "        break\n",
    "        \n",
    "    if len(player2.semua_kartu2) == 0:\n",
    "        print ('Player B kalah. Player A MENANG!')\n",
    "        game_on = False\n",
    "        break\n",
    "        \n",
    "    #kartu yg dipegang\n",
    "    player1_holding = []\n",
    "    player1_holding.append(player1.remove_card())\n",
    "    \n",
    "    player2_holding = []\n",
    "    player2_holding.append(player2.remove_card())\n",
    "        \n",
    "    at_war = True\n",
    "    while at_war:\n",
    "            #[-1] means the last card that is being hold /played\n",
    "        if player1_holding[-1].value > player2_holding[-1].value:\n",
    "            #player 1 add cards that being held + add card that being held by player 2\n",
    "            player1.add_cards(player1_holding)\n",
    "            player1.add_cards(player2_holding)\n",
    "            \n",
    "        elif player1_holding[-1].value < player2_holding[-1].value:\n",
    "            player2.add_cards(player1_holding)\n",
    "            player2.add_cards(player2_holding)\n",
    "            \n",
    "        else:\n",
    "            print(\"WAR!\")\n",
    "            # This occurs when the cards are equal.\n",
    "            # We'll grab another card each and continue the current war.\n",
    "            \n",
    "            # First check to see if player has enough cards for the war:\n",
    "            if len(player1.semua_kartu2) < 5:\n",
    "                print ('Player A kalah, Player B MENANG!')\n",
    "                game_on = False\n",
    "                break\n",
    "                \n",
    "            elif len(player2.semua_kartu2) < 5:\n",
    "                print ('Player B kalah, Player A MENANG!')\n",
    "                game_on = False\n",
    "                break\n",
    "                \n",
    "            else:\n",
    "                for num in range(5):\n",
    "                    player1_holding.append(player1.remove_card())\n",
    "                    player2_holding.append(player2.remove_card())"
   ]
  },
  {
   "cell_type": "code",
   "execution_count": 7,
   "id": "b32f1988",
   "metadata": {},
   "outputs": [
    {
     "data": {
      "text/plain": [
       "54840878"
      ]
     },
     "execution_count": 7,
     "metadata": {},
     "output_type": "execute_result"
    }
   ],
   "source": [
    "len(player1.semua_kartu2)"
   ]
  },
  {
   "cell_type": "code",
   "execution_count": 8,
   "id": "1a7228e9",
   "metadata": {},
   "outputs": [
    {
     "data": {
      "text/plain": [
       "20"
      ]
     },
     "execution_count": 8,
     "metadata": {},
     "output_type": "execute_result"
    }
   ],
   "source": [
    "len(player2.semua_kartu2)"
   ]
  },
  {
   "cell_type": "code",
   "execution_count": null,
   "id": "5b50b023",
   "metadata": {},
   "outputs": [],
   "source": []
  }
 ],
 "metadata": {
  "kernelspec": {
   "display_name": "Python 3",
   "language": "python",
   "name": "python3"
  },
  "language_info": {
   "codemirror_mode": {
    "name": "ipython",
    "version": 3
   },
   "file_extension": ".py",
   "mimetype": "text/x-python",
   "name": "python",
   "nbconvert_exporter": "python",
   "pygments_lexer": "ipython3",
   "version": "3.8.8"
  }
 },
 "nbformat": 4,
 "nbformat_minor": 5
}
